{
 "cells": [
  {
   "cell_type": "code",
   "execution_count": 1,
   "metadata": {},
   "outputs": [
    {
     "name": "stdout",
     "output_type": "stream",
     "text": [
      "Monika Wozniak, składka zapłacona: True.\n",
      "Monika Wozniak, pseudonim: NoNameRanger, składka zapłacona: True. Liczba zrobionych zadan: 5.0.\n"
     ]
    }
   ],
   "source": [
    "class KNMFMember:\n",
    "    \n",
    "    kolo = 'Koło Naukowe Matematyki Finansowej'\n",
    "    \n",
    "    def __init__(self, imie, nazwisko, zaplacil):\n",
    "        \n",
    "        self.imie = imie\n",
    "        \n",
    "        self.nazwisko = nazwisko\n",
    "        \n",
    "        self.zaplacil = zaplacil\n",
    "        \n",
    "    def __str__(self):\n",
    "        \n",
    "        return self.imie + ' ' + self.nazwisko + ',' + ' składka zapłacona: ' + str(self.zaplacil) + '.'\n",
    "    \n",
    "    \n",
    "    \n",
    "class PythonDrMember:\n",
    "    \n",
    "    def __init__(self, imie, nazwisko, nazwa, zaplacil, n_zadan):\n",
    "        \n",
    "        KNMFMember.__init__(self, imie, nazwisko, zaplacil)\n",
    "        \n",
    "        self.nazwa= nazwa\n",
    "        \n",
    "        self.n_zadan = n_zadan\n",
    "    \n",
    "    def solved_problem(self, NoweZadania=1):\n",
    "        \n",
    "        self.n_zadan += NoweZadania\n",
    "        \n",
    "    def __str__(self):\n",
    "        \n",
    "        return self.imie + ' ' + self.nazwisko + ', pseudonim: ' + self.nazwa + ', składka zapłacona: ' + str(self.zaplacil) + '. Liczba zrobionych zadan: ' + str(self.n_zadan)+ '.'\n",
    "   \n",
    "        \n",
    "\n",
    "Monika = KNMFMember('Monika', 'Wozniak',zaplacil = True)\n",
    "#Ranger1.solved_problem(5)\n",
    "print(Monika)\n",
    "\n",
    "Ranger1 = PythonDrMember('Monika', 'Wozniak', 'NoNameRanger', zaplacil=True, n_zadan=float(4))\n",
    "Ranger1.solved_problem(1)\n",
    "\n",
    "print(Ranger1)"
   ]
  }
 ],
 "metadata": {
  "kernelspec": {
   "display_name": "Python 3",
   "language": "python",
   "name": "python3"
  },
  "language_info": {
   "codemirror_mode": {
    "name": "ipython",
    "version": 3
   },
   "file_extension": ".py",
   "mimetype": "text/x-python",
   "name": "python",
   "nbconvert_exporter": "python",
   "pygments_lexer": "ipython3",
   "version": "3.6.6"
  }
 },
 "nbformat": 4,
 "nbformat_minor": 2
}

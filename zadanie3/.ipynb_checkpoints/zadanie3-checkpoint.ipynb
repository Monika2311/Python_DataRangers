{
 "cells": [
  {
   "cell_type": "code",
   "execution_count": 2,
   "metadata": {},
   "outputs": [],
   "source": [
    "import pandas as pd\n",
    "import numpy as np"
   ]
  },
  {
   "cell_type": "code",
   "execution_count": 3,
   "metadata": {},
   "outputs": [
    {
     "name": "stdout",
     "output_type": "stream",
     "text": [
      "Kasia, składka zapłacona: True. Liczba zrobionych zadan: 8.\n",
      "rita repulsa, składka zapłacona: False. Liczba zrobionych zadan: inf.\n"
     ]
    }
   ],
   "source": [
    "class DrMember:\n",
    "    \n",
    "    kolo = 'Koło Naukowe Matematyki Finansowej'\n",
    "    \n",
    "    def __init__(self, nazwa, zaplacil, n_zadan):\n",
    "        \n",
    "        self.nazwa = nazwa\n",
    "    \n",
    "        self.zaplacil = zaplacil\n",
    "        \n",
    "        self.n_zadan = n_zadan\n",
    "    \n",
    "    def solved_problem(self, NoweZadania=1):\n",
    "        self.n_zadan += NoweZadania\n",
    "        \n",
    "    def __str__(self):\n",
    "        return self.nazwa +',' + ' składka zapłacona: ' + str(self.zaplacil) + '. Liczba zrobionych zadan: ' + str(self.n_zadan)+ '.'\n",
    "   \n",
    "        \n",
    "\n",
    "Ranger1 = DrMember('Kasia',zaplacil = True, n_zadan = 3)\n",
    "Ranger1.solved_problem(5)\n",
    "print(Ranger1)\n",
    "\n",
    "czlonek2 = DrMember(\"rita repulsa\", zaplacil=False, n_zadan=float('inf'))\n",
    "print(czlonek2)"
   ]
  }
 ],
 "metadata": {
  "kernelspec": {
   "display_name": "Python 3",
   "language": "python",
   "name": "python3"
  },
  "language_info": {
   "codemirror_mode": {
    "name": "ipython",
    "version": 3
   },
   "file_extension": ".py",
   "mimetype": "text/x-python",
   "name": "python",
   "nbconvert_exporter": "python",
   "pygments_lexer": "ipython3",
   "version": "3.6.6"
  }
 },
 "nbformat": 4,
 "nbformat_minor": 2
}

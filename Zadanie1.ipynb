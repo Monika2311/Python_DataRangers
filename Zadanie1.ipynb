{
 "cells": [
  {
   "cell_type": "code",
   "execution_count": null,
   "metadata": {},
   "outputs": [],
   "source": [
    "##ZADANIE 1\n",
    "# Pierwsze zadanie będzie bardzo proste jeżeli chodzi o to co ma robić. Więcej czasu pewnie zajmie przygotowanie i uruchomienie Pythona :wink: Zadanie kradzione z zadań, które mieliśmy na efektywnym programowaniu w pythonie :stuck_out_tongue_winking_eye:\n",
    "# Należy napisać poniższą funkcję:\n",
    "# def avg(input):\n",
    "#     \"\"\"Funkcja powinna zwrócić średnią arytmetyczną elementów na liście 'input'\"\"\"\n",
    "#     pass\n",
    "\n",
    "# print(avg([2,2,2,2,2,2]) - 2 < 0.0000001)\n",
    "# print(avg([4, 6, 55, 18, 17, 12]) - 18.666666666666668 < 0.0000001)\n",
    "# print(avg([86, 89, 24, 45, 62, 17, 61, 63, 30, 13]) - 49 < 0.0000001)"
   ]
  },
  {
   "cell_type": "code",
   "execution_count": 21,
   "metadata": {},
   "outputs": [
    {
     "name": "stdout",
     "output_type": "stream",
     "text": [
      "True\n",
      "True\n",
      "True\n"
     ]
    }
   ],
   "source": [
    "def avg(inp):\n",
    "    return(sum(inp)/len(inp))\n",
    "\n",
    "print(avg([2,2,2,2,2,2]) - 2 < 0.0000001)\n",
    "print(avg([4, 6, 55, 18, 17, 12]) - 18.666666666666668 < 0.0000001)\n",
    "print(avg([86, 89, 24, 45, 62, 17, 61, 63, 30, 13]) - 49 < 0.0000001)"
   ]
  }
 ],
 "metadata": {
  "kernelspec": {
   "display_name": "Python 3",
   "language": "python",
   "name": "python3"
  },
  "language_info": {
   "codemirror_mode": {
    "name": "ipython",
    "version": 3
   },
   "file_extension": ".py",
   "mimetype": "text/x-python",
   "name": "python",
   "nbconvert_exporter": "python",
   "pygments_lexer": "ipython3",
   "version": "3.6.5"
  }
 },
 "nbformat": 4,
 "nbformat_minor": 2
}

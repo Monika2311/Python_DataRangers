{
 "cells": [
  {
   "cell_type": "code",
   "execution_count": 1,
   "metadata": {},
   "outputs": [],
   "source": [
    "import numpy as np\n",
    "\n",
    "def double(val):\n",
    "    if type(val)!=list:\n",
    "        return val,val*2\n",
    "    else :\n",
    "        return val*2,list(np.array(val)*2)"
   ]
  },
  {
   "cell_type": "code",
   "execution_count": 3,
   "metadata": {},
   "outputs": [
    {
     "name": "stdout",
     "output_type": "stream",
     "text": [
      "([12.2, 12.2], [24.4])\n",
      "True\n",
      "True\n",
      "True\n",
      "True\n",
      "True\n",
      "True\n"
     ]
    }
   ],
   "source": [
    "x = [12.2]\n",
    "print(double(x) )\n",
    "\n",
    "x = 3.\n",
    "print(double(x) == (3., 6.))\n",
    "print(x == 3.)\n",
    "\n",
    "z = [3]\n",
    "print(double(z) == ([3, 3], [6]))\n",
    "print(z == [3])\n",
    "\n",
    "w = [1, 2, 3]\n",
    "print(double(w) == ([1, 2, 3, 1, 2, 3], [2, 4, 6]))\n",
    "print(w == [1, 2, 3])"
   ]
  },
  {
   "cell_type": "code",
   "execution_count": 4,
   "metadata": {},
   "outputs": [
    {
     "name": "stdout",
     "output_type": "stream",
     "text": [
      "Hello Jaco\n"
     ]
    }
   ],
   "source": [
    "import Modul.zadanie2 as zad2\n",
    "zad2.printer()"
   ]
  }
 ],
 "metadata": {
  "kernelspec": {
   "display_name": "Python 3",
   "language": "python",
   "name": "python3"
  },
  "language_info": {
   "codemirror_mode": {
    "name": "ipython",
    "version": 3
   },
   "file_extension": ".py",
   "mimetype": "text/x-python",
   "name": "python",
   "nbconvert_exporter": "python",
   "pygments_lexer": "ipython3",
   "version": "3.6.5"
  }
 },
 "nbformat": 4,
 "nbformat_minor": 2
}
